{
 "cells": [
  {
   "cell_type": "markdown",
   "id": "c8fd8966-b575-4996-9e63-ffb7e7fa1802",
   "metadata": {},
   "source": [
    "## Работа с YandexGPT и OpenSearch с помощью фреймворка Langchain"
   ]
  },
  {
   "cell_type": "markdown",
   "id": "5fccbdbe-becf-4c19-b48c-6237b4307b5c",
   "metadata": {},
   "source": [
    "### 1. Устанавливаем необходимые библиотеки"
   ]
  },
  {
   "cell_type": "code",
   "execution_count": null,
   "id": "ff5a2013-45f2-450c-b5ad-719717e5167a",
   "metadata": {},
   "outputs": [],
   "source": [
    "%pip install -r requirements.txt"
   ]
  },
  {
   "cell_type": "markdown",
   "id": "de37ab67-c431-42d4-8186-51e35d0dcd65",
   "metadata": {},
   "source": [
    "После установки библиотек необходимо перегазгрузить Kernel. Для этого в верхнем меню выберите Kernel -> Restart Kernel"
   ]
  },
  {
   "cell_type": "markdown",
   "id": "37edd08c-8dd6-4714-a92a-00d5bcbfec34",
   "metadata": {
    "tags": []
   },
   "source": [
    "### 2. Подключение к кластеру OpenSearch"
   ]
  },
  {
   "cell_type": "markdown",
   "id": "7d286c9e-5d55-48e7-963b-0a21f3bd5b72",
   "metadata": {},
   "source": [
    "Документация по подключению: https://cloud.yandex.ru/docs/managed-opensearch/operations/connect"
   ]
  },
  {
   "cell_type": "markdown",
   "id": "ff8a7e94-5402-4720-8fc6-f90580ac3b53",
   "metadata": {},
   "source": [
    "#### Получение SSL-сертификата"
   ]
  },
  {
   "cell_type": "code",
   "execution_count": null,
   "id": "5a6b0c93-fa27-472a-9f02-848eca02541f",
   "metadata": {},
   "outputs": [],
   "source": [
    "!mkdir -p /home/jupyter/datasphere/project/.opensearch && \\\n",
    "wget \"https://storage.yandexcloud.net/cloud-certs/CA.pem\" \\\n",
    "     --output-document /home/jupyter/datasphere/project/.opensearch/root.crt && \\\n",
    "chmod 0600 /home/jupyter/datasphere/project/.opensearch/root.crt"
   ]
  },
  {
   "cell_type": "markdown",
   "id": "24cdbffa-d6dd-4133-adaf-e4abbc6e9b8c",
   "metadata": {},
   "source": [
    "#### Тестируем подключение к кластеру"
   ]
  },
  {
   "cell_type": "code",
   "execution_count": null,
   "id": "c866d602-96f7-45ba-a4aa-81a16e90dabf",
   "metadata": {},
   "outputs": [],
   "source": [
    "CA = '/home/jupyter/datasphere/project/.opensearch/root.crt'\n",
    "\n",
    "#Укажите пароль для пользователя admin\n",
    "PASS = '<пароль>'\n",
    "#Укажите список хостов кластера\n",
    "HOSTS = [\n",
    "   '<адрес_хоста>'\n",
    "]"
   ]
  },
  {
   "cell_type": "code",
   "execution_count": null,
   "id": "cc3b485f-23a8-480a-b01a-926e37170215",
   "metadata": {},
   "outputs": [],
   "source": [
    "from opensearchpy import OpenSearch\n",
    "\n",
    "conn = OpenSearch(\n",
    "  HOSTS,\n",
    "  http_auth=('admin', PASS),\n",
    "  use_ssl=True,\n",
    "  verify_certs=True,\n",
    "  ca_certs=CA)\n",
    "\n",
    "print(conn.info())"
   ]
  },
  {
   "cell_type": "markdown",
   "id": "2becda23-4ec2-4903-ad50-dea4e18a08a3",
   "metadata": {},
   "source": [
    "При правильной настройке подключения код выше вернет объект dict с информацией об имени кластера, uuid, версии и т.д."
   ]
  },
  {
   "cell_type": "markdown",
   "id": "388886d0-98ce-4493-823d-8fb59da67990",
   "metadata": {},
   "source": [
    "### 2. Получаем IAM-токен для работы с YandexGPT"
   ]
  },
  {
   "cell_type": "code",
   "execution_count": null,
   "id": "017656f3-8d1c-4834-869e-2344c3e30dae",
   "metadata": {},
   "outputs": [],
   "source": [
    "import time\n",
    "import jwt\n",
    "import requests"
   ]
  },
  {
   "cell_type": "markdown",
   "id": "c6911d89-78b1-4e14-82fd-19c7f7aa399c",
   "metadata": {},
   "source": [
    "Для того, чтобы обратиться из DataSphere к YandexGPT в настройках проекта необходимо указать сервисный аккаунт, у которого есть роль ai.languageModels.user. Для сервисного аккаунта необходимо создать **авторизованный** ключ доступа. "
   ]
  },
  {
   "cell_type": "code",
   "execution_count": null,
   "id": "daf218fe-907b-4eb3-b93d-739e65ecbaf9",
   "metadata": {},
   "outputs": [],
   "source": [
    "service_account_id = \"<идентификатор_сервисного_аккаунта>\"\n",
    "key_id = \"<идентификатор_ключа>\"\n",
    "private_key = \"<приватный_ключ>\""
   ]
  },
  {
   "cell_type": "code",
   "execution_count": null,
   "id": "b1ed5015-3d81-4b74-8fba-71c90772da7e",
   "metadata": {},
   "outputs": [],
   "source": [
    "# Получаем IAM-токен\n",
    "\n",
    "now = int(time.time())\n",
    "payload = {\n",
    "        'aud': 'https://iam.api.cloud.yandex.net/iam/v1/tokens',\n",
    "        'iss': service_account_id,\n",
    "        'iat': now,\n",
    "        'exp': now + 360}\n",
    "\n",
    "# Формирование JWT\n",
    "encoded_token = jwt.encode(\n",
    "    payload,\n",
    "    private_key,\n",
    "    algorithm='PS256',\n",
    "    headers={'kid': key_id})\n",
    "\n",
    "url = 'https://iam.api.cloud.yandex.net/iam/v1/tokens'\n",
    "x = requests.post(url,  \n",
    "                  headers={'Content-Type': 'application/json'},\n",
    "                  json = {'jwt': encoded_token}).json()\n",
    "token = x['iamToken']"
   ]
  },
  {
   "cell_type": "markdown",
   "id": "31915474-76b1-43f4-94c7-aef99385cb3f",
   "metadata": {},
   "source": [
    "### 3. Создаем индекс в OpenSearch для поиска релевантных документов"
   ]
  },
  {
   "cell_type": "markdown",
   "id": "b18cd101-8614-426d-9b8d-ec18efc6cc06",
   "metadata": {},
   "source": [
    "Устанавливаем LangChain. **LangChain** — это фреймворк для разработки приложений на базе языковых моделей."
   ]
  },
  {
   "cell_type": "code",
   "execution_count": null,
   "id": "fbd7c854-f2d0-493b-a16a-5d89fcd745e3",
   "metadata": {},
   "outputs": [],
   "source": [
    "import langchain\n",
    "from langchain.text_splitter import RecursiveCharacterTextSplitter\n",
    "from langchain.vectorstores import OpenSearchVectorSearch\n",
    "from langchain.document_loaders import TextLoader\n",
    "from langchain.chains import LLMChain\n",
    "from YaGPT import YandexGPTEmbeddings"
   ]
  },
  {
   "cell_type": "code",
   "execution_count": null,
   "id": "31b8ecf7-25c1-469d-be20-3263e9bb885a",
   "metadata": {},
   "outputs": [],
   "source": [
    "# Указываем путь к папке с документами в Object Storage. Для этого выберите Сopy Path\n",
    "source_dir = \"<путь_к_папке_с_документами_в_бакете>\""
   ]
  },
  {
   "cell_type": "code",
   "execution_count": null,
   "id": "49660e9d-4a39-43bc-a7d7-a60f6a7e08d5",
   "metadata": {},
   "outputs": [],
   "source": [
    "# Создаем объект для считывания документов из бакета в S3\n",
    "loader = langchain.document_loaders.DirectoryLoader(source_dir, \n",
    "                                                    glob=\"*.docx\",\n",
    "                                                    silent_errors=True,\n",
    "                                                    show_progress=True, \n",
    "                                                    recursive=True)"
   ]
  },
  {
   "cell_type": "code",
   "execution_count": null,
   "id": "9bf9c599-9c65-47a1-805d-9103e398cc4c",
   "metadata": {},
   "outputs": [],
   "source": [
    "# Указываем длины фрагмента, на который разбиваются документы\n",
    "\n",
    "CHUNK_SIZE = 1000\n",
    "CHUNK_OVERLAP = 100"
   ]
  },
  {
   "cell_type": "code",
   "execution_count": null,
   "id": "08c2cc29-33c0-4211-9305-fb3e4a83ee69",
   "metadata": {},
   "outputs": [],
   "source": [
    "# Считываем документы и разбиваем на фрагменты\n",
    "\n",
    "documents = loader.load()\n",
    "text_splitter = RecursiveCharacterTextSplitter(\n",
    "    chunk_size=CHUNK_SIZE, \n",
    "    chunk_overlap=CHUNK_OVERLAP\n",
    ")\n",
    "docs = text_splitter.split_documents(documents)"
   ]
  },
  {
   "cell_type": "code",
   "execution_count": null,
   "id": "0a7b5c74-5978-4bb9-b5c5-87c2a9e481ab",
   "metadata": {},
   "outputs": [],
   "source": [
    "# Cоздаем объект YandexGPTEmbeddings для построения векторов с помощью YandexGPT\n",
    "embeddings = YandexGPTEmbeddings(iam_token=token)"
   ]
  },
  {
   "cell_type": "code",
   "execution_count": null,
   "id": "15964efa-9324-4933-93ce-6b84e561c08d",
   "metadata": {},
   "outputs": [],
   "source": [
    "# Строим вектора по документам и добавляем их в базу OpenSearch\n",
    "docsearch = OpenSearchVectorSearch.from_documents(\n",
    "     docs,\n",
    "     embeddings,\n",
    "     opensearch_url=HOSTS[0],\n",
    "     http_auth=(\"admin\", PASS),\n",
    "     use_ssl = True,\n",
    "     verify_certs = True,\n",
    "     ca_certs = CA,\n",
    "     engine = 'lucene'\n",
    ")"
   ]
  },
  {
   "cell_type": "code",
   "execution_count": null,
   "id": "c745aef6-427a-4e35-a84d-c05853ad1c4c",
   "metadata": {},
   "outputs": [],
   "source": [
    "# Тестируем сохраненные вектора\n",
    "query = \"Как запустить вычисления в DataSphere?\"\n",
    "docs = docsearch.similarity_search(query, k=2)"
   ]
  },
  {
   "cell_type": "markdown",
   "id": "486c825d-851f-45cf-909e-949fd9d86a0c",
   "metadata": {},
   "source": [
    "### 4. Обращаемся к LLM с выбранными документами"
   ]
  },
  {
   "cell_type": "code",
   "execution_count": null,
   "id": "b0864424-e3c3-48ad-8c53-4c6edee88250",
   "metadata": {},
   "outputs": [],
   "source": [
    "from YaGPT import YandexLLM"
   ]
  },
  {
   "cell_type": "code",
   "execution_count": null,
   "id": "3d9dcf8f-139c-4aee-8a92-b6f266d78aa1",
   "metadata": {},
   "outputs": [],
   "source": [
    "instructions = \"\"\"\n",
    "Представь себе, что ты сотрудник Yandex Cloud. Твоя задача - вежливо и по мере своих сил отвечать на все вопросы собеседника.\"\"\"\n",
    "\n",
    "llm = YandexLLM(iam_token = token,\n",
    "                instruction_text = instructions)"
   ]
  },
  {
   "cell_type": "code",
   "execution_count": null,
   "id": "c53914c8-e34f-4cba-acab-1eba3382fc64",
   "metadata": {},
   "outputs": [],
   "source": [
    "# Промпт для обработки документов\n",
    "document_prompt = langchain.prompts.PromptTemplate(\n",
    "    input_variables=[\"page_content\"], \n",
    "    template=\"{page_content}\"\n",
    ")\n",
    "\n",
    "# Промпт для языковой модели\n",
    "document_variable_name = \"context\"\n",
    "stuff_prompt_override = \"\"\"\n",
    "    Пожалуйста, посмотри на текст ниже и ответь на вопрос, используя информацию из этого текста.\n",
    "    Текст:\n",
    "    -----\n",
    "    {context}\n",
    "    -----\n",
    "    Вопрос:\n",
    "    {query}\n",
    "\"\"\"\n",
    "prompt = langchain.prompts.PromptTemplate(\n",
    "    template=stuff_prompt_override,\n",
    "    input_variables=[\"context\", \"query\"]\n",
    ")\n",
    "\n",
    "# Создаём цепочку\n",
    "llm_chain = langchain.chains.LLMChain(llm=llm, \n",
    "                                      prompt=prompt)\n",
    "chain = langchain.chains.combine_documents.stuff.StuffDocumentsChain(\n",
    "    llm_chain=llm_chain,\n",
    "    document_prompt=document_prompt,\n",
    "    document_variable_name=document_variable_name,\n",
    ")"
   ]
  },
  {
   "cell_type": "code",
   "execution_count": null,
   "id": "bf63e9e6-e7a7-4759-a175-41cb70113a97",
   "metadata": {},
   "outputs": [],
   "source": [
    "chain.run(input_documents=docs, query=query)"
   ]
  }
 ],
 "metadata": {
  "kernelspec": {
   "display_name": "DataSphere Kernel",
   "language": "python",
   "name": "python3"
  },
  "language_info": {
   "codemirror_mode": {
    "name": "ipython",
    "version": 3
   },
   "file_extension": ".py",
   "mimetype": "text/x-python",
   "name": "python",
   "nbconvert_exporter": "python",
   "pygments_lexer": "ipython3",
   "version": "3.7.7"
  }
 },
 "nbformat": 4,
 "nbformat_minor": 5
}
